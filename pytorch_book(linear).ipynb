{
  "nbformat": 4,
  "nbformat_minor": 0,
  "metadata": {
    "colab": {
      "name": "pytorch-book(linear).ipynb",
      "provenance": [],
      "collapsed_sections": [],
      "authorship_tag": "ABX9TyOUZz4uo5UV5uDg3KuSuFMY",
      "include_colab_link": true
    },
    "kernelspec": {
      "name": "python3",
      "display_name": "Python 3"
    },
    "accelerator": "GPU"
  },
  "cells": [
    {
      "cell_type": "markdown",
      "metadata": {
        "id": "view-in-github",
        "colab_type": "text"
      },
      "source": [
        "<a href=\"https://colab.research.google.com/github/willkwon-math/class-for-deeplearning/blob/master/pytorch_book(linear).ipynb\" target=\"_parent\"><img src=\"https://colab.research.google.com/assets/colab-badge.svg\" alt=\"Open In Colab\"/></a>"
      ]
    },
    {
      "cell_type": "code",
      "metadata": {
        "id": "ifCMT7lWFs4i",
        "colab_type": "code",
        "colab": {
          "base_uri": "https://localhost:8080/",
          "height": 72
        },
        "outputId": "5cc7750a-eaed-4786-a712-084a1eee4402"
      },
      "source": [
        "!pip install torch"
      ],
      "execution_count": null,
      "outputs": [
        {
          "output_type": "stream",
          "text": [
            "Requirement already satisfied: torch in /usr/local/lib/python3.6/dist-packages (1.6.0+cu101)\n",
            "Requirement already satisfied: numpy in /usr/local/lib/python3.6/dist-packages (from torch) (1.18.5)\n",
            "Requirement already satisfied: future in /usr/local/lib/python3.6/dist-packages (from torch) (0.16.0)\n"
          ],
          "name": "stdout"
        }
      ]
    },
    {
      "cell_type": "code",
      "metadata": {
        "id": "UZBZ2ycdF2Zl",
        "colab_type": "code",
        "colab": {
          "base_uri": "https://localhost:8080/",
          "height": 35
        },
        "outputId": "3ced84aa-3424-43c7-86c6-eb788539470b"
      },
      "source": [
        "import torch\n",
        "\n",
        "\n",
        "X = torch.Tensor(2,3)\n",
        "X.shape"
      ],
      "execution_count": null,
      "outputs": [
        {
          "output_type": "execute_result",
          "data": {
            "text/plain": [
              "torch.Size([2, 3])"
            ]
          },
          "metadata": {
            "tags": []
          },
          "execution_count": 2
        }
      ]
    },
    {
      "cell_type": "code",
      "metadata": {
        "id": "srf9n4ytF7Cb",
        "colab_type": "code",
        "colab": {
          "base_uri": "https://localhost:8080/",
          "height": 54
        },
        "outputId": "e9cf1b5d-4760-4ee9-d2a0-7ef783dc1a01"
      },
      "source": [
        "X = torch.tensor([[1,2,3],[4,5,6]])\n",
        "print(X)"
      ],
      "execution_count": null,
      "outputs": [
        {
          "output_type": "stream",
          "text": [
            "tensor([[1, 2, 3],\n",
            "        [4, 5, 6]])\n"
          ],
          "name": "stdout"
        }
      ]
    },
    {
      "cell_type": "code",
      "metadata": {
        "id": "yqnRGR9RGFsx",
        "colab_type": "code",
        "colab": {
          "base_uri": "https://localhost:8080/",
          "height": 92
        },
        "outputId": "56bc921a-c27c-4270-d2c5-74c4723ee5e4"
      },
      "source": [
        "x = torch.tensor(data=[2.0, 3.0], requires_grad=True)\n",
        "y = x**2\n",
        "z = 2*y +3\n",
        "\n",
        "target = torch.tensor([3.0,4.0])\n",
        "loss = torch.sum(torch.abs(z-target))\n",
        "loss.backward()\n",
        "\n",
        "print(x.grad, y.grad, z.grad)"
      ],
      "execution_count": null,
      "outputs": [
        {
          "output_type": "stream",
          "text": [
            "tensor([ 8., 12.]) None None\n"
          ],
          "name": "stdout"
        },
        {
          "output_type": "stream",
          "text": [
            "/usr/local/lib/python3.6/dist-packages/ipykernel_launcher.py:9: UserWarning: The .grad attribute of a Tensor that is not a leaf Tensor is being accessed. Its .grad attribute won't be populated during autograd.backward(). If you indeed want the gradient for a non-leaf Tensor, use .retain_grad() on the non-leaf Tensor. If you access the non-leaf Tensor by mistake, make sure you access the leaf Tensor instead. See github.com/pytorch/pytorch/pull/30531 for more informations.\n",
            "  if __name__ == '__main__':\n"
          ],
          "name": "stderr"
        }
      ]
    },
    {
      "cell_type": "code",
      "metadata": {
        "id": "j7OiwpkNJxk6",
        "colab_type": "code",
        "colab": {
          "base_uri": "https://localhost:8080/",
          "height": 945
        },
        "outputId": "ee9af658-f558-4d76-9aba-562c78c6c145"
      },
      "source": [
        "## 선형회귀분석\n",
        "\n",
        "import torch \n",
        "import torch.nn as nn\n",
        "import torch.optim as optim\n",
        "import torch.nn.init as init\n",
        "\n",
        "## generating the data\n",
        "\n",
        "num_data = 1000\n",
        "num_epoch = 500\n",
        "loss_arr = []\n",
        "\n",
        "x=init.uniform_(torch.Tensor(num_data,1),-10,10)\n",
        "noise = init.normal_(torch.FloatTensor(num_data,1),std=1)\n",
        "y = 2*x+3\n",
        "y_noise = 2*(x+noise)+3\n",
        "\n",
        "# model\n",
        "\n",
        "model = nn.Linear(1,1) #특성수\n",
        "loss_func = nn.L1Loss()\n",
        "optimizer = optim.SGD(model.parameters(),lr=0.01)\n",
        "\n",
        "#learning\n",
        "\n",
        "label = y_noise\n",
        "for i in range(num_epoch):\n",
        "  optimizer.zero_grad()\n",
        "  output = model(x)\n",
        "\n",
        "  loss = loss_func(output,label)\n",
        "  loss.backward()\n",
        "  optimizer.step()\n",
        "\n",
        "  if i % 10 ==0:\n",
        "    print(loss.data)\n",
        "  loss_arr.append(loss.detach().numpy())\n",
        "  \n",
        "param_list = list(model.parameters())\n",
        "print(param_list[0].item(),param_list[1].item())"
      ],
      "execution_count": null,
      "outputs": [
        {
          "output_type": "stream",
          "text": [
            "tensor(13.0910)\n",
            "tensor(10.6836)\n",
            "tensor(8.4178)\n",
            "tensor(6.4434)\n",
            "tensor(4.9893)\n",
            "tensor(4.2495)\n",
            "tensor(3.9400)\n",
            "tensor(3.7787)\n",
            "tensor(3.6615)\n",
            "tensor(3.5597)\n",
            "tensor(3.4661)\n",
            "tensor(3.3804)\n",
            "tensor(3.3005)\n",
            "tensor(3.2231)\n",
            "tensor(3.1482)\n",
            "tensor(3.0758)\n",
            "tensor(3.0051)\n",
            "tensor(2.9356)\n",
            "tensor(2.8682)\n",
            "tensor(2.8028)\n",
            "tensor(2.7400)\n",
            "tensor(2.6789)\n",
            "tensor(2.6203)\n",
            "tensor(2.5647)\n",
            "tensor(2.5105)\n",
            "tensor(2.4581)\n",
            "tensor(2.4074)\n",
            "tensor(2.3577)\n",
            "tensor(2.3099)\n",
            "tensor(2.2651)\n",
            "tensor(2.2231)\n",
            "tensor(2.1833)\n",
            "tensor(2.1454)\n",
            "tensor(2.1090)\n",
            "tensor(2.0746)\n",
            "tensor(2.0419)\n",
            "tensor(2.0118)\n",
            "tensor(1.9838)\n",
            "tensor(1.9576)\n",
            "tensor(1.9333)\n",
            "tensor(1.9108)\n",
            "tensor(1.8896)\n",
            "tensor(1.8701)\n",
            "tensor(1.8523)\n",
            "tensor(1.8351)\n",
            "tensor(1.8186)\n",
            "tensor(1.8033)\n",
            "tensor(1.7887)\n",
            "tensor(1.7751)\n",
            "tensor(1.7621)\n",
            "2.009838581085205 2.188286066055298\n"
          ],
          "name": "stdout"
        }
      ]
    },
    {
      "cell_type": "markdown",
      "metadata": {
        "id": "vtxxr11rKvuZ",
        "colab_type": "text"
      },
      "source": [
        "torch.nn.Linear(in_features: int, out_features: int, bias: bool = True)\n",
        "\n",
        "- In_features -size of each input sample\n",
        "- out_features - size of each output sample\n",
        "\n",
        "=> nn.Linear(1,1) - input sample =1, outsample =1, bias true"
      ]
    },
    {
      "cell_type": "code",
      "metadata": {
        "id": "E11lHzMSMaw7",
        "colab_type": "code",
        "colab": {
          "base_uri": "https://localhost:8080/",
          "height": 592
        },
        "outputId": "be7d11ad-6bdb-4060-a23d-7519029f6f53"
      },
      "source": [
        "##visualization\n",
        "\n",
        "import matplotlib.pyplot as plt\n",
        "\n",
        "plt.figure(figsize=(10,10))\n",
        "plt.scatter(x.numpy(),y_noise.numpy(), s=7, c=\"gray\")\n",
        "plt.scatter(x.detach().numpy(),output.detach().numpy(), s=5, c=\"red\")\n",
        "plt.axis([-12,12,-25,25])\n",
        "plt.show()"
      ],
      "execution_count": null,
      "outputs": [
        {
          "output_type": "display_data",
          "data": {
            "image/png": "[encoded data removed]",
            "text/plain": [
              "<Figure size 720x720 with 1 Axes>"
            ]
          },
          "metadata": {
            "tags": [],
            "needs_background": "light"
          }
        }
      ]
    },
    {
      "cell_type": "code",
      "metadata": {
        "id": "Oi4ZZ3eHNp1V",
        "colab_type": "code",
        "colab": {
          "base_uri": "https://localhost:8080/",
          "height": 265
        },
        "outputId": "ef9bcf92-89ee-4995-d20e-70af49b246c9"
      },
      "source": [
        "plt.plot(loss_arr)\n",
        "plt.show()"
      ],
      "execution_count": null,
      "outputs": [
        {
          "output_type": "display_data",
          "data": {
            "image/png": "[encoded data removed]",
            "text/plain": [
              "<Figure size 432x288 with 1 Axes>"
            ]
          },
          "metadata": {
            "tags": [],
            "needs_background": "light"
          }
        }
      ]
    }
  ]
}