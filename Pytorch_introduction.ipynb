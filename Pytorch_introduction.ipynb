{
  "nbformat": 4,
  "nbformat_minor": 0,
  "metadata": {
    "colab": {
      "name": "Pytorch-introduction.ipynb",
      "provenance": [],
      "collapsed_sections": [],
      "toc_visible": true,
      "authorship_tag": "ABX9TyPLZSbi7q3NjPHlpwHji9/c",
      "include_colab_link": true
    },
    "kernelspec": {
      "name": "python3",
      "display_name": "Python 3"
    }
  },
  "cells": [
    {
      "cell_type": "markdown",
      "metadata": {
        "id": "view-in-github",
        "colab_type": "text"
      },
      "source": [
        "<a href=\"https://colab.research.google.com/github/willkwon-math/class-for-deeplearning/blob/master/Pytorch_introduction.ipynb\" target=\"_parent\"><img src=\"https://colab.research.google.com/assets/colab-badge.svg\" alt=\"Open In Colab\"/></a>"
      ]
    },
    {
      "cell_type": "markdown",
      "metadata": {
        "id": "9QrhsR1sU0PA",
        "colab_type": "text"
      },
      "source": [
        "Pytorch 기본부터 차근차근\n",
        "\n",
        "이 노트의 목적은 '20. 09. 05.(토)에 한 스터디에서 부족한 부분을 채우기 위함임.\n",
        "\n",
        "**장점**\n",
        "- 다양한 라이브러리 제공\n",
        "- GPU 사용가능\n",
        "\n",
        "\n",
        "\n",
        "\n"
      ]
    },
    {
      "cell_type": "markdown",
      "metadata": {
        "id": "_FALvJBnhYyj",
        "colab_type": "text"
      },
      "source": [
        "\n",
        "\n",
        "# 기본개념 "
      ]
    },
    {
      "cell_type": "markdown",
      "metadata": {
        "id": "AHhZqRL_hPZv",
        "colab_type": "text"
      },
      "source": [
        "\n",
        "\n",
        "## 텐서(Tensor)\n",
        "$N$개의 배열을 파이토치가 처리하는 기본단위\n"
      ]
    },
    {
      "cell_type": "code",
      "metadata": {
        "id": "F9aWTNY7Wyxd",
        "colab_type": "code",
        "colab": {
          "base_uri": "https://localhost:8080/",
          "height": 71
        },
        "outputId": "eedf7169-f471-40e0-929a-e342cada401f"
      },
      "source": [
        "!pip install torch\n",
        "import torch\n",
        "import numpy"
      ],
      "execution_count": null,
      "outputs": [
        {
          "output_type": "stream",
          "text": [
            "Requirement already satisfied: torch in /usr/local/lib/python3.6/dist-packages (1.6.0+cu101)\n",
            "Requirement already satisfied: future in /usr/local/lib/python3.6/dist-packages (from torch) (0.16.0)\n",
            "Requirement already satisfied: numpy in /usr/local/lib/python3.6/dist-packages (from torch) (1.18.5)\n"
          ],
          "name": "stdout"
        }
      ]
    },
    {
      "cell_type": "markdown",
      "metadata": {
        "id": "SatRCyt-gxAY",
        "colab_type": "text"
      },
      "source": [
        "## Torch.nn 라이브러리\n",
        "\n",
        "여러가지 계산을 포함하고 있는 라이브러리\n",
        "- Nonlinear Activations\n",
        "- Convolution Layers\n",
        "- Linear Layers\n",
        "- Loss Functions\n",
        "- Distance Functions"
      ]
    },
    {
      "cell_type": "markdown",
      "metadata": {
        "id": "GEwPesvpWn4Y",
        "colab_type": "text"
      },
      "source": [
        "# 코드로 이해하기"
      ]
    },
    {
      "cell_type": "markdown",
      "metadata": {
        "id": "kGcXziGGhCvJ",
        "colab_type": "text"
      },
      "source": [
        "## 기본적인 코드"
      ]
    },
    {
      "cell_type": "markdown",
      "metadata": {
        "id": "rNqpaxWNXLS_",
        "colab_type": "text"
      },
      "source": [
        "요악\n",
        "- torch.empty(행,열)  / 초기화되지 않은 행렬을 생성한다.\n",
        "- torch.zeros(행,열,dtype) / dtype으로 0으로 채워진 행렬을 생성\n",
        "- torch.tensor([]) / 데이터로부터 tensor를 생성 \n",
        "- x.size() / 행렬의 크기를 구함."
      ]
    },
    {
      "cell_type": "markdown",
      "metadata": {
        "id": "tpwSIlVjWraq",
        "colab_type": "text"
      },
      "source": [
        "초기화되지 않은 $5 \\times 3$행렬을 생성한다."
      ]
    },
    {
      "cell_type": "code",
      "metadata": {
        "id": "paTCB4paWvDd",
        "colab_type": "code",
        "colab": {
          "base_uri": "https://localhost:8080/",
          "height": 107
        },
        "outputId": "319077c1-0752-4480-803e-b0f891b87de8"
      },
      "source": [
        "x = torch.empty(5, 3)\n",
        "print(x)"
      ],
      "execution_count": null,
      "outputs": [
        {
          "output_type": "stream",
          "text": [
            "tensor([[1.5821e-35, 0.0000e+00, 3.3631e-44],\n",
            "        [0.0000e+00,        nan, 0.0000e+00],\n",
            "        [1.1578e+27, 1.1362e+30, 7.1547e+22],\n",
            "        [4.5828e+30, 1.2121e+04, 7.1846e+22],\n",
            "        [9.2198e-39, 7.0374e+22, 5.5117e-36]])\n"
          ],
          "name": "stdout"
        }
      ]
    },
    {
      "cell_type": "markdown",
      "metadata": {
        "id": "heZ8MdjKW_Sr",
        "colab_type": "text"
      },
      "source": [
        "무작위로 초기화된 행렬을 생성한다."
      ]
    },
    {
      "cell_type": "code",
      "metadata": {
        "id": "z1-MauHdXCnr",
        "colab_type": "code",
        "colab": {
          "base_uri": "https://localhost:8080/",
          "height": 107
        },
        "outputId": "a5eb3f54-9375-4fd4-ff9e-d2f5a9bf277c"
      },
      "source": [
        "x=torch.rand(5, 3)\n",
        "print(x)"
      ],
      "execution_count": null,
      "outputs": [
        {
          "output_type": "stream",
          "text": [
            "tensor([[0.8470, 0.5545, 0.9009],\n",
            "        [0.1654, 0.2262, 0.0804],\n",
            "        [0.5215, 0.0306, 0.3924],\n",
            "        [0.4694, 0.2791, 0.1824],\n",
            "        [0.9154, 0.0719, 0.2088]])\n"
          ],
          "name": "stdout"
        }
      ]
    },
    {
      "cell_type": "markdown",
      "metadata": {
        "id": "cdUjXXNLXjAz",
        "colab_type": "text"
      },
      "source": [
        "dtype이 long이고 0으로 채워진 행렬을 생성한다. "
      ]
    },
    {
      "cell_type": "code",
      "metadata": {
        "id": "g3pJZg9pXdpL",
        "colab_type": "code",
        "colab": {
          "base_uri": "https://localhost:8080/",
          "height": 107
        },
        "outputId": "7bf9114e-72b2-445d-d18a-0d71067dfb43"
      },
      "source": [
        "x=torch.zeros(5, 3, dtype=torch.long)\n",
        "print(x)"
      ],
      "execution_count": null,
      "outputs": [
        {
          "output_type": "stream",
          "text": [
            "tensor([[0, 0, 0],\n",
            "        [0, 0, 0],\n",
            "        [0, 0, 0],\n",
            "        [0, 0, 0],\n",
            "        [0, 0, 0]])\n"
          ],
          "name": "stdout"
        }
      ]
    },
    {
      "cell_type": "markdown",
      "metadata": {
        "id": "YHXZrQbLXr0Y",
        "colab_type": "text"
      },
      "source": [
        "데이터로부터 tensor를 생성한다. "
      ]
    },
    {
      "cell_type": "code",
      "metadata": {
        "id": "FBpfHAKrXnqd",
        "colab_type": "code",
        "colab": {
          "base_uri": "https://localhost:8080/",
          "height": 35
        },
        "outputId": "00379a93-8d40-420e-c6a9-3248ce53e15a"
      },
      "source": [
        "x = torch.tensor([5.5, 3])\n",
        "print(x)"
      ],
      "execution_count": null,
      "outputs": [
        {
          "output_type": "stream",
          "text": [
            "tensor([5.5000, 3.0000])\n"
          ],
          "name": "stdout"
        }
      ]
    },
    {
      "cell_type": "markdown",
      "metadata": {
        "id": "0dAVwSA9XxNi",
        "colab_type": "text"
      },
      "source": [
        "행렬의 크기를 구하는 방법"
      ]
    },
    {
      "cell_type": "code",
      "metadata": {
        "id": "4dZ6qx-VXvWt",
        "colab_type": "code",
        "colab": {
          "base_uri": "https://localhost:8080/",
          "height": 35
        },
        "outputId": "d2095423-3299-4d28-bb46-30b3ff53c4a7"
      },
      "source": [
        "x=torch.zeros(5,3,dtype=torch.long)\n",
        "print(x.size())"
      ],
      "execution_count": null,
      "outputs": [
        {
          "output_type": "stream",
          "text": [
            "torch.Size([5, 3])\n"
          ],
          "name": "stdout"
        }
      ]
    },
    {
      "cell_type": "markdown",
      "metadata": {
        "id": "_fCjyCX1dbe0",
        "colab_type": "text"
      },
      "source": [
        "자세한 계산들을 여기서 확인가능\n",
        "\n",
        "https://pytorch.org/docs/stable/torch.html"
      ]
    },
    {
      "cell_type": "markdown",
      "metadata": {
        "id": "sb6oGkZohcro",
        "colab_type": "text"
      },
      "source": [
        "## torch.nn 라이브러리 \n"
      ]
    },
    {
      "cell_type": "markdown",
      "metadata": {
        "id": "BJpVDnb7d3Lj",
        "colab_type": "text"
      },
      "source": [
        "# 예제에서 사용된 것들\n",
        "\n"
      ]
    },
    {
      "cell_type": "markdown",
      "metadata": {
        "id": "mZF2ndYcz5eZ",
        "colab_type": "text"
      },
      "source": [
        "## numpy(넘파이)"
      ]
    },
    {
      "cell_type": "markdown",
      "metadata": {
        "id": "apSbGpIs0FUZ",
        "colab_type": "text"
      },
      "source": [
        "- Numerical Python의 줄임말\n",
        "- https://doorbw.tistory.com/171"
      ]
    },
    {
      "cell_type": "code",
      "metadata": {
        "id": "ohHzOG7F3FbM",
        "colab_type": "code",
        "colab": {
          "base_uri": "https://localhost:8080/",
          "height": 53
        },
        "outputId": "2146c538-30f7-4e8c-85b7-e5d1769f9319"
      },
      "source": [
        "import numpy as np\n",
        "\n",
        "data1 = [1,2,3,4,5]\n",
        "arr1 = np.array(data1)\n",
        "print(arr1.shape)\n",
        "arr1"
      ],
      "execution_count": 5,
      "outputs": [
        {
          "output_type": "stream",
          "text": [
            "(5,)\n"
          ],
          "name": "stdout"
        },
        {
          "output_type": "execute_result",
          "data": {
            "text/plain": [
              "array([1, 2, 3, 4, 5])"
            ]
          },
          "metadata": {
            "tags": []
          },
          "execution_count": 5
        }
      ]
    },
    {
      "cell_type": "code",
      "metadata": {
        "id": "UtYpqF0y3RzY",
        "colab_type": "code",
        "colab": {
          "base_uri": "https://localhost:8080/",
          "height": 89
        },
        "outputId": "529b8d1a-6c36-4626-cd41-8be71a71fc6b"
      },
      "source": [
        "arr2 = np.array([[1,2,3],[4,5,6],[7,8,9],[10,11,12]])\n",
        "print(arr2.shape)\n",
        "arr2"
      ],
      "execution_count": 4,
      "outputs": [
        {
          "output_type": "execute_result",
          "data": {
            "text/plain": [
              "array([[ 1,  2,  3],\n",
              "       [ 4,  5,  6],\n",
              "       [ 7,  8,  9],\n",
              "       [10, 11, 12]])"
            ]
          },
          "metadata": {
            "tags": []
          },
          "execution_count": 4
        }
      ]
    },
    {
      "cell_type": "markdown",
      "metadata": {
        "id": "Bom8Emqd3xaM",
        "colab_type": "text"
      },
      "source": [
        "연산은 shape이 같을 때 할 수 있음. \n",
        "broadcast라는 기능 또한 있음\n",
        "\n",
        "인덱싱 규칙"
      ]
    },
    {
      "cell_type": "code",
      "metadata": {
        "id": "VbumikaF4DV6",
        "colab_type": "code",
        "colab": {
          "base_uri": "https://localhost:8080/",
          "height": 71
        },
        "outputId": "b7b83091-af0b-4740-906c-b1cc39222dd5"
      },
      "source": [
        "arr2 = np.array([[1,2,3],[4,5,6],[7,8,9],[10,11,12]])\n",
        "\n",
        "print(arr2[0,0])\n",
        "print(arr2[3,2])\n",
        "print(arr2[:,2]) #모든 열의 2번째 요소 꺼내기"
      ],
      "execution_count": 11,
      "outputs": [
        {
          "output_type": "stream",
          "text": [
            "1\n",
            "12\n",
            "[ 3  6  9 12]\n"
          ],
          "name": "stdout"
        }
      ]
    },
    {
      "cell_type": "markdown",
      "metadata": {
        "id": "N2vi6AHL4rx7",
        "colab_type": "text"
      },
      "source": [
        "> np.random.normal(mean,standard-deviation,size)\n",
        "\n",
        "> out : ndarray or scalar\n",
        "\n",
        "Draw random samples from a normal distribution\n",
        "\n"
      ]
    },
    {
      "cell_type": "code",
      "metadata": {
        "id": "SJJA6TmG4ots",
        "colab_type": "code",
        "colab": {
          "base_uri": "https://localhost:8080/",
          "height": 53
        },
        "outputId": "dad4de38-d79b-43ec-fff9-2171d854c027"
      },
      "source": [
        "a = np.random.normal(0,1,size=(2,4))\n",
        "a"
      ],
      "execution_count": 16,
      "outputs": [
        {
          "output_type": "execute_result",
          "data": {
            "text/plain": [
              "array([[ 0.52714407,  0.02279393,  0.99861222,  1.05540551],\n",
              "       [ 0.3675054 , -0.84605962, -0.69975024,  0.60295316]])"
            ]
          },
          "metadata": {
            "tags": []
          },
          "execution_count": 16
        }
      ]
    },
    {
      "cell_type": "markdown",
      "metadata": {
        "id": "7NsDjyId6VGl",
        "colab_type": "text"
      },
      "source": [
        "numpy.reshape(a, newshape, order='C')[source]\n",
        "Gives a new shape to an array without changing its data."
      ]
    },
    {
      "cell_type": "code",
      "metadata": {
        "id": "G2TSxfjA6dTU",
        "colab_type": "code",
        "colab": {
          "base_uri": "https://localhost:8080/",
          "height": 143
        },
        "outputId": "1531ec76-9fa2-4018-df22-b2d20f54ccc6"
      },
      "source": [
        "a = np.arange(8).reshape((4, 2))\n",
        "print(a)\n",
        "\n",
        "print()\n",
        "\n",
        "a =np.reshape(a, (2, 4))\n",
        "print(a)"
      ],
      "execution_count": 23,
      "outputs": [
        {
          "output_type": "stream",
          "text": [
            "[[0 1]\n",
            " [2 3]\n",
            " [4 5]\n",
            " [6 7]]\n",
            "\n",
            "[[0 1 2 3]\n",
            " [4 5 6 7]]\n"
          ],
          "name": "stdout"
        }
      ]
    },
    {
      "cell_type": "markdown",
      "metadata": {
        "id": "4_3yE6nvz24a",
        "colab_type": "text"
      },
      "source": [
        "## pytorch "
      ]
    },
    {
      "cell_type": "markdown",
      "metadata": {
        "id": "zeiZ_-o6z1f3",
        "colab_type": "text"
      },
      "source": [
        "> torch.from_numpy(ndarray) → Tensor\n",
        "\n",
        "Creates a Tensor from a numpy.ndarray."
      ]
    },
    {
      "cell_type": "code",
      "metadata": {
        "id": "0GZi_ApEeBa0",
        "colab_type": "code",
        "colab": {
          "base_uri": "https://localhost:8080/",
          "height": 53
        },
        "outputId": "30fac267-5390-4823-93b1-b7a4d9c00bbc"
      },
      "source": [
        "a = numpy.array([1,2,3])\n",
        "t = torch.from_numpy(a)\n",
        "print(t)\n",
        "\n",
        "\n",
        "\n",
        "t[0]=-1\n",
        "a\n",
        "print(a)"
      ],
      "execution_count": null,
      "outputs": [
        {
          "output_type": "stream",
          "text": [
            "tensor([1, 2, 3])\n",
            "[-1  2  3]\n"
          ],
          "name": "stdout"
        }
      ]
    },
    {
      "cell_type": "markdown",
      "metadata": {
        "id": "kNrHC0BZANq3",
        "colab_type": "text"
      },
      "source": [
        "> self.layer\n",
        "\n",
        "\n",
        "\n",
        "> torch.nn.Linear(in_features, out_features, bias=True)\n",
        "\n",
        "$ y = xA^T +b $와 같은 함수를 도입. \n",
        "\n",
        "\n",
        "https://towardsdatascience.com/how-to-build-your-own-pytorch-neural-network-layer-from-scratch-842144d623f6"
      ]
    },
    {
      "cell_type": "code",
      "metadata": {
        "id": "KgbBRugaBJoS",
        "colab_type": "code",
        "colab": {
          "base_uri": "https://localhost:8080/",
          "height": 35
        },
        "outputId": "fa43da8b-7bfe-4d0c-eed7-d109a9d13314"
      },
      "source": [
        "import torch\n",
        "import torch.nn as nn\n",
        "\n",
        "m = nn.Linear(20,30)\n",
        "input = torch.randn(128, 20)\n",
        "output = m(input)\n",
        "print(output.size())"
      ],
      "execution_count": 26,
      "outputs": [
        {
          "output_type": "stream",
          "text": [
            "torch.Size([128, 30])\n"
          ],
          "name": "stdout"
        }
      ]
    },
    {
      "cell_type": "markdown",
      "metadata": {
        "id": "InZECzk9BAmT",
        "colab_type": "text"
      },
      "source": [
        ""
      ]
    },
    {
      "cell_type": "markdown",
      "metadata": {
        "id": "dHjWkWpI-iAR",
        "colab_type": "text"
      },
      "source": [
        "> class torch.nn.Module\n",
        "\n",
        "Neural network module의 기본이 되는 class\n",
        "\n"
      ]
    },
    {
      "cell_type": "code",
      "metadata": {
        "id": "bZNlrcBa-cqi",
        "colab_type": "code",
        "colab": {}
      },
      "source": [
        "class LinearRegressionModel(torch.nn.Module):\n",
        "  def __init__(self):\n",
        "    super(LinearRegressionModel, self).__init__() #check\n",
        "    self.layer = torch.nn.Linear(2,1,bias=True)#???\n",
        "\n",
        "  def forward(self, inputs):\n",
        "    outputs = self.layer(inputs)\n",
        "    return outputs\n",
        "\n",
        "model = LinearRegressionModel()\n",
        "\n",
        "print(model.layer.weight.data)\n",
        "print(model.layer.bias.data)"
      ],
      "execution_count": null,
      "outputs": []
    },
    {
      "cell_type": "markdown",
      "metadata": {
        "id": "qnAM4wbN_6HE",
        "colab_type": "text"
      },
      "source": [
        "Q1. 왜 __init__(self) 이 부분이 나타나는가?\n",
        "\n",
        "A. model = LinearRegressionModel()이 작동할 때 init 파트가 실행된다. initialization을 하는 파트"
      ]
    },
    {
      "cell_type": "markdown",
      "metadata": {
        "id": "iJSHTxD-_TPt",
        "colab_type": "text"
      },
      "source": [
        "\n",
        "\n",
        "\n",
        "https://stackoverflow.com/questions/58795601/pytorch-understand-how-nn-module-class-internally-work"
      ]
    },
    {
      "cell_type": "markdown",
      "metadata": {
        "id": "1dc7IcOpCOZ3",
        "colab_type": "text"
      },
      "source": [
        "Q2. forward 파트는 무엇인가?\n",
        "\n",
        "forward함수에서는 모델에서 인풋을 어떻게 넣었을 때 아웃풋이 어떻게 될지를 정의한다.  "
      ]
    },
    {
      "cell_type": "markdown",
      "metadata": {
        "id": "c9XFAI8MGUnW",
        "colab_type": "text"
      },
      "source": [
        "Hopefully, you use them in the other order - opt.zero_grad(), loss.backward(), opt.step().\n",
        "\n",
        "- zero_grad clears old gradients from the last step (otherwise you’d just accumulate the gradients from all loss.backward() calls).\n",
        "- loss.backward() computes the derivative of the loss w.r.t. the parameters (or anything requiring gradients) using backpropagation.\n",
        "- opt.step() causes the optimizer to take a step based on the gradients of the parameters.\n",
        "- loss_epoch"
      ]
    }
  ]
}