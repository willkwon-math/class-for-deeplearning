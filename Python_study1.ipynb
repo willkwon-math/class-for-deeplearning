{
  "nbformat": 4,
  "nbformat_minor": 0,
  "metadata": {
    "colab": {
      "name": "Lecture1.ipynb",
      "provenance": [],
      "collapsed_sections": [],
      "toc_visible": true,
      "authorship_tag": "ABX9TyPH2tLxw1t9jdOHtpsxOiP/",
      "include_colab_link": true
    },
    "kernelspec": {
      "name": "python3",
      "display_name": "Python 3"
    }
  },
  "cells": [
    {
      "cell_type": "markdown",
      "metadata": {
        "id": "view-in-github",
        "colab_type": "text"
      },
      "source": [
        "<a href=\"https://colab.research.google.com/github/willkwon-math/class-for-deeplearning/blob/master/Lecture1.ipynb\" target=\"_parent\"><img src=\"https://colab.research.google.com/assets/colab-badge.svg\" alt=\"Open In Colab\"/></a>"
      ]
    },
    {
      "cell_type": "markdown",
      "metadata": {
        "id": "Src96rIaWZDx",
        "colab_type": "text"
      },
      "source": [
        "#Pytorch로 linear regression 모델 구현하기\n",
        "\n"
      ]
    },
    {
      "cell_type": "markdown",
      "metadata": {
        "id": "8yeKNUirWgP_",
        "colab_type": "text"
      },
      "source": [
        "## Setup"
      ]
    },
    {
      "cell_type": "markdown",
      "metadata": {
        "id": "CpRSlLWCWkav",
        "colab_type": "text"
      },
      "source": [
        "### 필요한 라이브러리 호출"
      ]
    },
    {
      "cell_type": "code",
      "metadata": {
        "id": "O-Ahz48IWTH7",
        "colab_type": "code",
        "colab": {}
      },
      "source": [
        "#!pip uninstall numpy\n",
        "#!pip install numpy\n",
        "import numpy as np\n",
        "import torch\n",
        "import torch.nn as nn"
      ],
      "execution_count": 1,
      "outputs": []
    },
    {
      "cell_type": "markdown",
      "metadata": {
        "id": "kd-dLrJAWr6v",
        "colab_type": "text"
      },
      "source": [
        "- numpy:\n",
        "- torch:\n",
        "- torch.nn: 여러가지 딥러닝 계산을 도와주는 함수들을 가지고 있는 라이브러리. 예로 \n",
        "  - Nonlinear Activations\n",
        "  - Convolution Layers\n",
        "  - Linear Layers\n",
        "  - Loss Functions\n",
        "  - Distance Functions\n"
      ]
    },
    {
      "cell_type": "markdown",
      "metadata": {
        "id": "SZwXJsgkZOdl",
        "colab_type": "text"
      },
      "source": [
        "### torch에 대한 기본적인 사항들\n",
        "- torch.empty(행,열) / 초기화되지 않은 행렬을 생성한다.\n",
        "- torch.zeros(행,열,dtype) / dtype으로 0으로 채워진 행렬을 생성\n",
        "- torch.tensor([]) / 데이터로부터 tensor를 생성\n",
        "- x.size() / 행렬의 크기를 구함."
      ]
    },
    {
      "cell_type": "code",
      "metadata": {
        "id": "4nlVTK3yZW55",
        "colab_type": "code",
        "colab": {
          "base_uri": "https://localhost:8080/",
          "height": 323
        },
        "outputId": "684636fa-92a8-4556-deb6-e1602361b805"
      },
      "source": [
        "x = torch.empty(5,3) #초기화되지 않은 5x3 행렬 생성\n",
        "print(x)\n",
        "x=torch.rand(5,3) #무작위로 초기화된 행렬을 생성\n",
        "print(x)\n",
        "x=torch.zeros(5, 3, dtype=torch.long)\n",
        "print(x)\n",
        "x=torch.tensor([5.5, 3])\n",
        "print(x)\n",
        "x=torch.zeros(5,3,dtype=torch.long) #행렬크기 구하기\n",
        "print(x.size())"
      ],
      "execution_count": 10,
      "outputs": [
        {
          "output_type": "stream",
          "text": [
            "tensor([[3.1287e-35, 0.0000e+00, 3.3631e-44],\n",
            "        [0.0000e+00,        nan, 1.5975e-43],\n",
            "        [4.4721e+21, 1.5956e+25, 4.7399e+16],\n",
            "        [3.7987e-39, 6.2706e+22, 4.7428e+30],\n",
            "        [0.0000e+00, 0.0000e+00, 0.0000e+00]])\n",
            "tensor([[0.2197, 0.3028, 0.9216],\n",
            "        [0.9160, 0.6648, 0.5344],\n",
            "        [0.1141, 0.3956, 0.5410],\n",
            "        [0.8539, 0.9842, 0.8459],\n",
            "        [0.3744, 0.9717, 0.2179]])\n",
            "tensor([[0, 0, 0],\n",
            "        [0, 0, 0],\n",
            "        [0, 0, 0],\n",
            "        [0, 0, 0],\n",
            "        [0, 0, 0]])\n",
            "tensor([5.5000, 3.0000])\n",
            "torch.Size([5, 3])\n"
          ],
          "name": "stdout"
        }
      ]
    },
    {
      "cell_type": "markdown",
      "metadata": {
        "id": "hkykSMsiZ0JN",
        "colab_type": "text"
      },
      "source": [
        "그 외 기초적인 내용들은 여기서 확인가능 \n",
        "\n",
        "https://pytorch.org/docs/stable/torch.html"
      ]
    },
    {
      "cell_type": "markdown",
      "metadata": {
        "id": "NvV2vhdDXIVt",
        "colab_type": "text"
      },
      "source": [
        "### 데이터 생성"
      ]
    },
    {
      "cell_type": "code",
      "metadata": {
        "id": "HNNfJcprW7UK",
        "colab_type": "code",
        "colab": {
          "base_uri": "https://localhost:8080/",
          "height": 35
        },
        "outputId": "3477f9fc-03cf-4854-f25a-85f7f413854f"
      },
      "source": [
        "def synthetic_data(w,b, num_examples):\n",
        "  \"\"\"Generate y = Xw+b+noise.\"\"\"\n",
        "  X = np.random.normal(0,1,(num_examples, len(w)))\n",
        "  y = np.dot(X, w)+b\n",
        "  y += np.random.normal(0,0.01, y.shape)\n",
        "  return X, y.reshape((-1,1))\n",
        "\n",
        "true_w = np.array([2,-3.4])\n",
        "true_b = 4.2\n",
        "features, labels = synthetic_data(true_w, true_b, 1000)\n",
        "\n",
        "print(features.shape, labels.shape)"
      ],
      "execution_count": 2,
      "outputs": [
        {
          "output_type": "stream",
          "text": [
            "(1000, 2) (1000, 1)\n"
          ],
          "name": "stdout"
        }
      ]
    },
    {
      "cell_type": "markdown",
      "metadata": {
        "id": "53f80lsRZ7oV",
        "colab_type": "text"
      },
      "source": [
        "### numpy(넘파이)의 기초 코드\n",
        "\n",
        "Numerical Python의 줄임말"
      ]
    },
    {
      "cell_type": "code",
      "metadata": {
        "id": "UDVD8ZnnaDta",
        "colab_type": "code",
        "colab": {
          "base_uri": "https://localhost:8080/",
          "height": 53
        },
        "outputId": "9d9d7a3f-8068-43a0-aacb-50f82c8e16e8"
      },
      "source": [
        "data1 = [1,2,3,4,5]\n",
        "arr1 = np.array(data1)\n",
        "print(arr1.shape)\n",
        "arr1"
      ],
      "execution_count": 11,
      "outputs": [
        {
          "output_type": "stream",
          "text": [
            "(5,)\n"
          ],
          "name": "stdout"
        },
        {
          "output_type": "execute_result",
          "data": {
            "text/plain": [
              "array([1, 2, 3, 4, 5])"
            ]
          },
          "metadata": {
            "tags": []
          },
          "execution_count": 11
        }
      ]
    },
    {
      "cell_type": "code",
      "metadata": {
        "id": "G7yN9m_taF-n",
        "colab_type": "code",
        "colab": {}
      },
      "source": [
        "arr2 = np.array([[1,2,3],[4,5,6],[7,8,9],[10,11,12]])\n",
        "print(arr2.shape)\n",
        "arr2"
      ],
      "execution_count": null,
      "outputs": []
    },
    {
      "cell_type": "markdown",
      "metadata": {
        "id": "axlRrtfaaHjp",
        "colab_type": "text"
      },
      "source": [
        "\n",
        "연산은 shape이 같을 때 할 수 있음. broadcast라는 기능 또한 있음\n",
        "\n",
        "\n",
        "> np.random.normal(mean,standard-deviation,size)\n",
        " \n",
        "- 결과값: ndarray 또는 scalar\n",
        "- Draw random samples from a normal distribution"
      ]
    },
    {
      "cell_type": "code",
      "metadata": {
        "id": "ahY1EjQCaJZd",
        "colab_type": "code",
        "colab": {}
      },
      "source": [
        "a = np.random.normal(0,1,size=(2,4))\n",
        "a"
      ],
      "execution_count": null,
      "outputs": []
    },
    {
      "cell_type": "markdown",
      "metadata": {
        "id": "LPry-g9Taayl",
        "colab_type": "text"
      },
      "source": [
        "> torch.from_numpy(ndarray)\n",
        "\n",
        "numpy로 입력된 darray 데이터를 pytorch tensor로 변환해줌"
      ]
    },
    {
      "cell_type": "code",
      "metadata": {
        "id": "EyENWqclaia1",
        "colab_type": "code",
        "colab": {
          "base_uri": "https://localhost:8080/",
          "height": 53
        },
        "outputId": "1a9b9a3b-df93-4d83-917a-d16cd6bc887a"
      },
      "source": [
        "a = np.array([1,2,3])\n",
        "t = torch.from_numpy(a)\n",
        "print(t)\n",
        "\n",
        "t[0]=-1\n",
        "a\n",
        "print(a)"
      ],
      "execution_count": 13,
      "outputs": [
        {
          "output_type": "stream",
          "text": [
            "tensor([1, 2, 3])\n",
            "[-1  2  3]\n"
          ],
          "name": "stdout"
        }
      ]
    },
    {
      "cell_type": "markdown",
      "metadata": {
        "id": "kKMFqratXTQo",
        "colab_type": "text"
      },
      "source": [
        "## Neural network 생성"
      ]
    },
    {
      "cell_type": "markdown",
      "metadata": {
        "id": "CAieIpm6XWbx",
        "colab_type": "text"
      },
      "source": [
        "### class 모듈 생성"
      ]
    },
    {
      "cell_type": "code",
      "metadata": {
        "id": "SC_EDdtHXZKl",
        "colab_type": "code",
        "colab": {}
      },
      "source": [
        "X, y = torch.from_numpy(features).float(),torch.from_numpy(labels).float().reshape(-1,1) #we define it into pytorch tensor\n",
        "\n",
        "class LinearRegressionModel(torch.nn.Module):\n",
        "  def __init__(self):\n",
        "    super(LinearRegressionModel, self).__init__() #check\n",
        "    self.layer = torch.nn.Linear(2,1,bias=True)#\n",
        "\n",
        "  def forward(self, inputs):\n",
        "    outputs = self.layer(inputs)\n",
        "    return outputs\n",
        "\n",
        "model = LinearRegressionModel()"
      ],
      "execution_count": 3,
      "outputs": []
    },
    {
      "cell_type": "markdown",
      "metadata": {
        "id": "YM3jAJFkaqr6",
        "colab_type": "text"
      },
      "source": [
        "### 소스 설명"
      ]
    },
    {
      "cell_type": "markdown",
      "metadata": {
        "id": "qPaUrPvubODb",
        "colab_type": "text"
      },
      "source": [
        "주로 https://towardsdatascience.com/how-to-build-your-own-pytorch-neural-network-layer-from-scratch-842144d623f6\n",
        "를 참고함"
      ]
    },
    {
      "cell_type": "markdown",
      "metadata": {
        "id": "MLJ9gvL7bnSR",
        "colab_type": "text"
      },
      "source": [
        "학습시키기 위한 module을 만들기 위해서는 \n",
        "- initialization / model = LinearRegressionModel()이 작동할 때 init 파트가 실행된다. initialization을 하는 파트로 처음에 레이어가 초기화 되어야 한다고 함\n",
        "- forward calculation 부분\n",
        "\n",
        "이 필요함"
      ]
    },
    {
      "cell_type": "markdown",
      "metadata": {
        "id": "48IUfr_fa0la",
        "colab_type": "text"
      },
      "source": [
        "> torch.nn.Linear(in_features, out_features, bias=True or False)\n",
        "\n",
        "- $y=x A^T +b$와 같은 함수를 각 텐서마다 정의함. "
      ]
    },
    {
      "cell_type": "code",
      "metadata": {
        "id": "lrOI1I5yauHi",
        "colab_type": "code",
        "colab": {
          "base_uri": "https://localhost:8080/",
          "height": 35
        },
        "outputId": "37bceba1-faff-4a30-d66e-a52c2c349659"
      },
      "source": [
        "m = nn.Linear(20,30)\n",
        "input = torch.randn(128, 20)\n",
        "output = m(input)\n",
        "print(output.size())"
      ],
      "execution_count": 14,
      "outputs": [
        {
          "output_type": "stream",
          "text": [
            "torch.Size([128, 30])\n"
          ],
          "name": "stdout"
        }
      ]
    },
    {
      "cell_type": "markdown",
      "metadata": {
        "id": "-42e63wpXsSo",
        "colab_type": "text"
      },
      "source": [
        "## 학습 시작\n",
        "\n",
        "Mean square estimate를 최소화하는 방향으로 학습"
      ]
    },
    {
      "cell_type": "markdown",
      "metadata": {
        "id": "waV1xKR8k9EJ",
        "colab_type": "text"
      },
      "source": [
        "### 코드"
      ]
    },
    {
      "cell_type": "code",
      "metadata": {
        "id": "BqnG6oQWXuCJ",
        "colab_type": "code",
        "colab": {
          "base_uri": "https://localhost:8080/",
          "height": 459
        },
        "outputId": "ea0bb353-03cf-417b-de31-0c11f923e0aa"
      },
      "source": [
        "import matplotlib.pyplot as plt\n",
        "from torch.utils.data import TensorDataset, DataLoader\n",
        "\n",
        "def load_array(data_arrays, batch_size, is_train=True):\n",
        "  dataset = TensorDataset(*data_arrays)\n",
        "  dataloader = DataLoader(dataset=dataset, batch_size=batch_size, shuffle=is_train)\n",
        "\n",
        "  return dataloader\n",
        "\n",
        "batch_sizes = 10\n",
        "num_epochs = 10\n",
        "data_iter = load_array((X,y), batch_sizes)\n",
        "\n",
        "criterion = torch.nn.MSELoss(reduction='sum')\n",
        "optimizer = torch.optim.SGD(model.parameters(),lr=0.03)  #model = LinearRegressionModel()\n",
        "\n",
        "loss_graph = []\n",
        "loss_graph.append(criterion(model(X),y))\n",
        "for epoch in range(num_epochs): #training part epoch: number of learning time \n",
        "  for X, y in data_iter:#one step for gradient descent\n",
        "    predict = model(X)\n",
        "    loss = criterion(predict, y) #\n",
        "    optimizer.zero_grad() #gradient zero part\n",
        "    loss.backward() #use backward function\n",
        "    optimizer.step()  \n",
        "  loss_epoch = criterion(model(X),y)\n",
        "  loss_graph.append(loss_epoch)\n",
        "  print(\"epoch:{}, loss:{}\".format(epoch+1, loss_epoch))\n",
        "plt.plot(loss_graph);\n",
        "plt.xlabel(\"epoch\")\n",
        "plt.ylabel(\"loss\")\n",
        "plt.show()"
      ],
      "execution_count": 4,
      "outputs": [
        {
          "output_type": "stream",
          "text": [
            "epoch:1, loss:0.000856477243360132\n",
            "epoch:2, loss:0.000731121574062854\n",
            "epoch:3, loss:0.000771397550124675\n",
            "epoch:4, loss:0.000811173755209893\n",
            "epoch:5, loss:0.00013528336421586573\n",
            "epoch:6, loss:0.0012850887142121792\n",
            "epoch:7, loss:0.0002474848588462919\n",
            "epoch:8, loss:0.0008545509190298617\n",
            "epoch:9, loss:0.0005554138333536685\n",
            "epoch:10, loss:0.0010195199865847826\n"
          ],
          "name": "stdout"
        },
        {
          "output_type": "display_data",
          "data": {
            "image/png": "[encoded data removed]",
            "text/plain": [
              "<Figure size 432x288 with 1 Axes>"
            ]
          },
          "metadata": {
            "tags": [],
            "needs_background": "light"
          }
        }
      ]
    },
    {
      "cell_type": "markdown",
      "metadata": {
        "id": "0o-5D3k8k5uP",
        "colab_type": "text"
      },
      "source": [
        "### 코드 해설\n",
        "\n",
        "- zero_grad 명령어는 직전 스텝에서 사용된 gradient 파트를 없애줌. 그렇지 않으면 gradient 값들을 계속 축적함.\n",
        "- loss.backward()는 backpropagation의 parameter의 관점에서 loss function의 도함수를 계산한다.\n",
        "- optimizer.step()은 optimizer가 작동하도록 하는 명령어. 여기서는 stochastic gradient descent 알고리즘 사용"
      ]
    },
    {
      "cell_type": "markdown",
      "metadata": {
        "id": "K8FwfS0yYAhR",
        "colab_type": "text"
      },
      "source": [
        "## 결과\n"
      ]
    },
    {
      "cell_type": "code",
      "metadata": {
        "id": "UWerBELiYCkC",
        "colab_type": "code",
        "colab": {
          "base_uri": "https://localhost:8080/",
          "height": 53
        },
        "outputId": "72e6ec5c-2096-4d53-8dad-9f2fc185aa91"
      },
      "source": [
        "# true_w = np.array([2, -3.4])\n",
        "# true_b = 4.2\n",
        "weight = model.layer.weight.detach().numpy()\n",
        "bias = model.layer.bias.detach().numpy()\n",
        "print(\"estimated_w={}\".format(weight))\n",
        "print(\"estimated_b={}\".format(bias))"
      ],
      "execution_count": 5,
      "outputs": [
        {
          "output_type": "stream",
          "text": [
            "estimated_w=[[ 1.9993031 -3.400852 ]]\n",
            "estimated_b=[4.1997533]\n"
          ],
          "name": "stdout"
        }
      ]
    },
    {
      "cell_type": "code",
      "metadata": {
        "id": "J1oq-l4_YIRy",
        "colab_type": "code",
        "colab": {
          "base_uri": "https://localhost:8080/",
          "height": 265
        },
        "outputId": "1ddec5d0-e959-4ebb-a4d4-8e7f733e1949"
      },
      "source": [
        "X = np.arange(-3, 3, 0.25)\n",
        "\n",
        "def predict_plot(input_data, weight, bias):\n",
        "  weight = weight.reshape(2,1)\n",
        "  input_data = np.array([np.zeros_like(input_data), input_data])\n",
        "  input_data = input_data.transpose(1, 0)\n",
        "  y_hat = np.dot(input_data.reshape(-1, 2), weight) + bias\n",
        "  return y_hat\n",
        "\n",
        "y_hat = predict_plot(X, weight, bias)\n",
        "\n",
        "plt.scatter(features[:,1],labels, 1)\n",
        "plt.plot(X, y_hat, color='r')\n",
        "plt.show()"
      ],
      "execution_count": 7,
      "outputs": [
        {
          "output_type": "display_data",
          "data": {
            "image/png": "[encoded data removed]",
            "text/plain": [
              "<Figure size 432x288 with 1 Axes>"
            ]
          },
          "metadata": {
            "tags": [],
            "needs_background": "light"
          }
        }
      ]
    }
  ]
}
