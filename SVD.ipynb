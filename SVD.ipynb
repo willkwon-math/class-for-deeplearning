{
  "nbformat": 4,
  "nbformat_minor": 0,
  "metadata": {
    "colab": {
      "name": "SVD.ipynb",
      "provenance": [],
      "collapsed_sections": [],
      "authorship_tag": "ABX9TyMXretYwk6TIeOzqo+0PKeJ",
      "include_colab_link": true
    },
    "kernelspec": {
      "name": "python3",
      "display_name": "Python 3"
    }
  },
  "cells": [
    {
      "cell_type": "markdown",
      "metadata": {
        "id": "view-in-github",
        "colab_type": "text"
      },
      "source": [
        "<a href=\"https://colab.research.google.com/github/willkwon-math/class-for-deeplearning/blob/master/SVD.ipynb\" target=\"_parent\"><img src=\"https://colab.research.google.com/assets/colab-badge.svg\" alt=\"Open In Colab\"/></a>"
      ]
    },
    {
      "cell_type": "code",
      "metadata": {
        "id": "T88q8qxk2ofw",
        "outputId": "077ffa64-401e-4cb5-b100-267bd9321fe0",
        "colab": {
          "base_uri": "https://localhost:8080/",
          "height": 34
        }
      },
      "source": [
        "from google.colab import drive\n",
        "drive.mount('/gdrive', force_remount=True)"
      ],
      "execution_count": null,
      "outputs": [
        {
          "output_type": "stream",
          "text": [
            "Mounted at /gdrive\n"
          ],
          "name": "stdout"
        }
      ]
    },
    {
      "cell_type": "code",
      "metadata": {
        "id": "iPHlyX6p153D"
      },
      "source": [
        "import numpy as np \n",
        "import matplotlib.pyplot as plt\n",
        "import cv2\n",
        " \n",
        " \n",
        "# read image in grayscale\n",
        "img = cv2.imread('/gdrive/My Drive/Lenna.png',0)\n",
        "#print(img)\n",
        " \n",
        " \n",
        "# obtain svd\n",
        "U, S, V = np.linalg.svd(img)\n",
        " \n",
        "# inspect shapes of the matrices\n",
        "#print(U.shape, S.shape, V.shape)\n",
        " \n",
        "# plots images with different number of components\n",
        " \n",
        "comps = [600,300,150,50,20,10]\n",
        " \n",
        "#plt.figure(figsize = (16, 8))\n",
        "for i in range(5):\n",
        "  low_rank = U[:, :comps[i]] @ np.diag(S[:comps[i]]) @ V[:comps[i], :]\n",
        "  #print(low_rank)\n",
        " # print(U[:, :comps[i]].shape)\n",
        " # print(U[:, :comps[i]]@V[:comps[i], :])\n",
        " # print(low_rank)\n",
        "  #print(low_rank.shape)\n",
        "  #plt.imshow(low_rank, cmap = 'gray')\n",
        "  if(i  == 0):\n",
        "    plt.subplot(2, 3, i+1), plt.imshow(low_rank, cmap = 'gray'), plt.axis('off'), plt.title(\"Original Image with n_components =\" + str(comps[i]))\n",
        "  else:\n",
        "    plt.subplot(2, 3, i+1), plt.imshow(low_rank, cmap = 'gray'), plt.axis('off'), plt.title(\"n_components =\" + str(comps[i]))"
      ],
      "execution_count": null,
      "outputs": []
    },
    {
      "cell_type": "code",
      "metadata": {
        "id": "pT5cMVoy4Ddo"
      },
      "source": [
        "#https://www.analyticsvidhya.com/blog/2019/08/5-applications-singular-value-decomposition-svd-data-science/"
      ],
      "execution_count": null,
      "outputs": []
    }
  ]
}